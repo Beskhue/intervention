{
 "cells": [
  {
   "cell_type": "code",
   "execution_count": 1,
   "metadata": {},
   "outputs": [],
   "source": [
    "import torch\n",
    "from torch.nn.functional import softmax\n",
    "import matplotlib.pyplot as plt\n",
    "%matplotlib inline"
   ]
  },
  {
   "cell_type": "code",
   "execution_count": 2,
   "metadata": {},
   "outputs": [
    {
     "data": {
      "text/plain": [
       "tensor([[-1.5246,  1.8444,  1.0658, -1.8735, -0.3476],\n",
       "        [-2.8953, -1.4088,  0.5241, -1.3285, -1.4007],\n",
       "        [-0.9502, -0.3615,  0.3486, -0.0225, -0.9205],\n",
       "        [-0.1483, -0.4382, -1.5779,  1.0842,  0.1283],\n",
       "        [-2.2714, -0.9273, -0.4972,  0.6732,  1.7200]], requires_grad=True)"
      ]
     },
     "execution_count": 2,
     "metadata": {},
     "output_type": "execute_result"
    }
   ],
   "source": [
    "tensor = torch.randn((5, 5),requires_grad=True)\n",
    "tensor"
   ]
  },
  {
   "cell_type": "code",
   "execution_count": 3,
   "metadata": {},
   "outputs": [
    {
     "data": {
      "text/plain": [
       "(tensor([[0.0070, 0.2031, 0.0932, 0.0049, 0.0227],\n",
       "         [0.0018, 0.0078, 0.0542, 0.0085, 0.0079],\n",
       "         [0.0124, 0.0224, 0.0455, 0.0314, 0.0128],\n",
       "         [0.0277, 0.0207, 0.0066, 0.0950, 0.0365],\n",
       "         [0.0033, 0.0127, 0.0195, 0.0630, 0.1793]], grad_fn=<ViewBackward>),\n",
       " tensor(2.3501, grad_fn=<SumBackward0>),\n",
       " tensor(2.0001, grad_fn=<SumBackward0>))"
      ]
     },
     "execution_count": 3,
     "metadata": {},
     "output_type": "execute_result"
    }
   ],
   "source": [
    "def spatial_softmax2d(tensor):\n",
    "    p = torch.reshape(softmax(torch.reshape(tensor, (-1,)), dim=0), tensor.shape)\n",
    "    grid_y, grid_x = torch.meshgrid(torch.arange(0, tensor.shape[0]), torch.arange(0, tensor.shape[1]))\n",
    "    x = torch.sum(grid_x.float() * p)\n",
    "    y = torch.sum(grid_y.float() * p)\n",
    "    return p, x, y\n",
    "\n",
    "p, x, y = spatial_softmax2d(tensor)\n",
    "p, x, y"
   ]
  },
  {
   "cell_type": "code",
   "execution_count": 4,
   "metadata": {},
   "outputs": [
    {
     "data": {
      "text/plain": [
       "(tensor(0.8821), tensor(0.6533))"
      ]
     },
     "execution_count": 4,
     "metadata": {},
     "output_type": "execute_result"
    }
   ],
   "source": [
    "target_x, target_y = torch.rand(2) * torch.tensor(tensor.shape, dtype=torch.float)\n",
    "target_x, target_y"
   ]
  },
  {
   "cell_type": "code",
   "execution_count": 5,
   "metadata": {},
   "outputs": [
    {
     "data": {
      "text/plain": [
       "tensor([[1., 0., 0., 0., 0.],\n",
       "        [0., 0., 0., 0., 0.],\n",
       "        [0., 0., 0., 0., 0.],\n",
       "        [0., 0., 0., 0., 0.],\n",
       "        [0., 0., 0., 0., 0.]])"
      ]
     },
     "execution_count": 5,
     "metadata": {},
     "output_type": "execute_result"
    }
   ],
   "source": [
    "target = torch.zeros(tensor.shape)\n",
    "target[target_y.int(), target_x.int()] = 1\n",
    "target"
   ]
  },
  {
   "cell_type": "code",
   "execution_count": 6,
   "metadata": {},
   "outputs": [
    {
     "data": {
      "image/png": "[encoded data removed]",
      "text/plain": [
       "<Figure size 432x288 with 2 Axes>"
      ]
     },
     "metadata": {
      "needs_background": "light"
     },
     "output_type": "display_data"
    }
   ],
   "source": [
    "def plot_figure(p, predictions, target_x, target_y):\n",
    "    xs = [x.detach().numpy() for (x, y) in predictions]\n",
    "    ys = [y.detach().numpy() for (x, y) in predictions]\n",
    "\n",
    "    plt.imshow(p.detach().numpy(), cmap='viridis', extent=(-0.5, p.shape[1] - 0.5, p.shape[0] - 0.5, -0.5))\n",
    "    plt.colorbar()    \n",
    "    plt.plot(xs, ys, 'co')\n",
    "    plt.plot(target_x.detach().numpy(), target_y.detach().numpy(), 'ro')\n",
    "    plt.legend(['predicted', 'target'], loc='upper left', bbox_to_anchor=(1.3, 1))\n",
    "    plt.show()\n",
    "    \n",
    "plot_figure(p, [(x, y)], target_x, target_y)"
   ]
  },
  {
   "cell_type": "code",
   "execution_count": 7,
   "metadata": {},
   "outputs": [],
   "source": [
    "predictions = []"
   ]
  },
  {
   "cell_type": "markdown",
   "metadata": {},
   "source": [
    "# Run this multiple times with Ctrl+Enter\n",
    "To test the negative learning, set negative=True in gradient_step() call."
   ]
  },
  {
   "cell_type": "code",
   "execution_count": 8,
   "metadata": {},
   "outputs": [
    {
     "data": {
      "image/png": "[encoded data removed]",
      "text/plain": [
       "<Figure size 432x288 with 2 Axes>"
      ]
     },
     "metadata": {
      "needs_background": "light"
     },
     "output_type": "display_data"
    },
    {
     "data": {
      "text/plain": [
       "tensor(0.2109, grad_fn=<NegBackward>)"
      ]
     },
     "execution_count": 8,
     "metadata": {},
     "output_type": "execute_result"
    }
   ],
   "source": [
    "def gradient_step(tensor, p, target, lr=1.0, negative=False):\n",
    "    loss = -torch.sum(target * torch.log(p))\n",
    "    if negative:\n",
    "        loss = -loss\n",
    "    loss.backward()\n",
    "    with torch.no_grad():\n",
    "        tensor -= lr * tensor.grad\n",
    "        tensor.grad.zero_()\n",
    "    return loss\n",
    "\n",
    "for _ in range(10):\n",
    "    loss = gradient_step(tensor, p, target, negative=False)\n",
    "    p, x, y = spatial_softmax2d(tensor)\n",
    "    predictions.append((x, y))\n",
    "plot_figure(p, predictions, target_x, target_y)\n",
    "loss"
   ]
  },
  {
   "cell_type": "code",
   "execution_count": 9,
   "metadata": {},
   "outputs": [
    {
     "data": {
      "text/plain": [
       "tensor([[ 4.5580,  0.8445,  0.4965, -1.9121, -0.5149],\n",
       "        [-2.9093, -1.4695,  0.1590, -1.3942, -1.4620],\n",
       "        [-1.0448, -0.5266,  0.0348, -0.2480, -1.0179],\n",
       "        [-0.3494, -0.5919, -1.6294,  0.5067, -0.1300],\n",
       "        [-2.2975, -1.0241, -0.6427,  0.2591,  0.8001]], requires_grad=True)"
      ]
     },
     "execution_count": 9,
     "metadata": {},
     "output_type": "execute_result"
    }
   ],
   "source": [
    "tensor"
   ]
  },
  {
   "cell_type": "code",
   "execution_count": null,
   "metadata": {},
   "outputs": [],
   "source": []
  }
 ],
 "metadata": {
  "kernelspec": {
   "display_name": "Python 3",
   "language": "python",
   "name": "python3"
  },
  "language_info": {
   "codemirror_mode": {
    "name": "ipython",
    "version": 3
   },
   "file_extension": ".py",
   "mimetype": "text/x-python",
   "name": "python",
   "nbconvert_exporter": "python",
   "pygments_lexer": "ipython3",
   "version": "3.7.9"
  }
 },
 "nbformat": 4,
 "nbformat_minor": 2
}
