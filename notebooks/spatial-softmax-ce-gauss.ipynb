{
 "cells": [
  {
   "cell_type": "code",
   "execution_count": 1,
   "metadata": {},
   "outputs": [],
   "source": [
    "import torch\n",
    "from torch.nn.functional import softmax\n",
    "import matplotlib.pyplot as plt\n",
    "%matplotlib inline"
   ]
  },
  {
   "cell_type": "code",
   "execution_count": 2,
   "metadata": {},
   "outputs": [
    {
     "data": {
      "text/plain": [
       "tensor([[-1.2881,  0.9183, -0.3756,  1.8380,  1.0841],\n",
       "        [ 0.0169,  0.3672, -0.8594,  0.6141,  1.2651],\n",
       "        [ 0.4820, -1.8450, -0.9009,  0.3096, -0.6025],\n",
       "        [ 0.6718,  0.6962,  0.0117,  2.7302,  0.5911],\n",
       "        [ 1.5603,  0.9307, -0.3981, -0.7517,  0.6009]], requires_grad=True)"
      ]
     },
     "execution_count": 2,
     "metadata": {},
     "output_type": "execute_result"
    }
   ],
   "source": [
    "tensor = torch.randn((5, 5),requires_grad=True)\n",
    "tensor"
   ]
  },
  {
   "cell_type": "code",
   "execution_count": 3,
   "metadata": {},
   "outputs": [
    {
     "data": {
      "text/plain": [
       "(tensor([[0.0048, 0.0436, 0.0120, 0.1094, 0.0515],\n",
       "         [0.0177, 0.0251, 0.0074, 0.0322, 0.0617],\n",
       "         [0.0282, 0.0028, 0.0071, 0.0237, 0.0095],\n",
       "         [0.0341, 0.0349, 0.0176, 0.2669, 0.0314],\n",
       "         [0.0828, 0.0441, 0.0117, 0.0082, 0.0317]], grad_fn=<ViewBackward>),\n",
       " tensor(2.3263, grad_fn=<SumBackward0>),\n",
       " tensor(2.1558, grad_fn=<SumBackward0>))"
      ]
     },
     "execution_count": 3,
     "metadata": {},
     "output_type": "execute_result"
    }
   ],
   "source": [
    "def spatial_softmax2d(tensor):\n",
    "    p = torch.reshape(softmax(torch.reshape(tensor, (-1,)), dim=0), tensor.shape)\n",
    "    grid_y, grid_x = torch.meshgrid(torch.arange(0, tensor.shape[0]), torch.arange(0, tensor.shape[1]))\n",
    "    x = torch.sum(grid_x.float() * p)\n",
    "    y = torch.sum(grid_y.float() * p)\n",
    "    return p, x, y\n",
    "\n",
    "p, x, y = spatial_softmax2d(tensor)\n",
    "p, x, y"
   ]
  },
  {
   "cell_type": "code",
   "execution_count": 4,
   "metadata": {},
   "outputs": [
    {
     "data": {
      "text/plain": [
       "(tensor(1.0122), tensor(2.9429))"
      ]
     },
     "execution_count": 4,
     "metadata": {},
     "output_type": "execute_result"
    }
   ],
   "source": [
    "# notice that you need prob dist with dim + 1 to express coordinates 0..dim.\n",
    "target_x, target_y = torch.rand(2) * (torch.tensor(tensor.shape, dtype=torch.float) - 1)\n",
    "target_x, target_y"
   ]
  },
  {
   "cell_type": "code",
   "execution_count": 5,
   "metadata": {},
   "outputs": [
    {
     "data": {
      "text/plain": [
       "(tensor([[0.0000e+00, 0.0000e+00, 0.0000e+00, 0.0000e+00, 0.0000e+00],\n",
       "         [0.0000e+00, 0.0000e+00, 0.0000e+00, 0.0000e+00, 0.0000e+00],\n",
       "         [0.0000e+00, 5.6414e-02, 6.9557e-04, 0.0000e+00, 0.0000e+00],\n",
       "         [0.0000e+00, 9.3141e-01, 1.1484e-02, 0.0000e+00, 0.0000e+00],\n",
       "         [0.0000e+00, 0.0000e+00, 0.0000e+00, 0.0000e+00, 0.0000e+00]]),\n",
       " tensor(1.))"
      ]
     },
     "execution_count": 5,
     "metadata": {},
     "output_type": "execute_result"
    }
   ],
   "source": [
    "# 2x2 matrix that produces required expected values\n",
    "target = torch.zeros(tensor.shape)\n",
    "target[torch.floor(target_y).long(), torch.floor(target_x).long()] = (torch.ceil(target_y) - target_y) * (torch.ceil(target_x) - target_x)\n",
    "target[torch.ceil(target_y).long(), torch.floor(target_x).long()] = (target_y - torch.floor(target_y)) * (torch.ceil(target_x) - target_x)\n",
    "target[torch.floor(target_y).long(), torch.ceil(target_x).long()] = (torch.ceil(target_y) - target_y) * (target_x - torch.floor(target_x))\n",
    "target[torch.ceil(target_y).long(), torch.ceil(target_x).long()] = (target_y - torch.floor(target_y)) * (target_x - torch.floor(target_x))\n",
    "target, torch.sum(target)"
   ]
  },
  {
   "cell_type": "code",
   "execution_count": 6,
   "metadata": {},
   "outputs": [
    {
     "data": {
      "text/plain": [
       "(tensor(1.0122), tensor(2.9429))"
      ]
     },
     "execution_count": 6,
     "metadata": {},
     "output_type": "execute_result"
    }
   ],
   "source": [
    "# verify that expected values match\n",
    "grid_y, grid_x = torch.meshgrid(torch.arange(0, target.shape[0]), torch.arange(0, target.shape[1]))\n",
    "ev_target_x = torch.sum(grid_x.float() * target)\n",
    "ev_target_y = torch.sum(grid_y.float() * target)\n",
    "ev_target_x, ev_target_y"
   ]
  },
  {
   "cell_type": "code",
   "execution_count": 7,
   "metadata": {},
   "outputs": [
    {
     "data": {
      "image/png": "[encoded data removed]",
      "text/plain": [
       "<Figure size 1080x360 with 4 Axes>"
      ]
     },
     "metadata": {
      "needs_background": "light"
     },
     "output_type": "display_data"
    }
   ],
   "source": [
    "def plot_figure(p, predictions, target, target_x, target_y):\n",
    "    xs = [x.detach().numpy() for (x, y) in predictions]\n",
    "    ys = [y.detach().numpy() for (x, y) in predictions]\n",
    "\n",
    "    plt.figure(figsize=(15, 5))\n",
    "    plt.subplot(1, 2, 1)\n",
    "    plt.imshow(p.detach().numpy(), cmap='viridis', extent=(-0.5, p.shape[1] - 0.5, p.shape[0] - 0.5, -0.5))\n",
    "    plt.colorbar()\n",
    "    plt.plot(xs, ys, 'co')\n",
    "    plt.plot(target_x.detach().numpy(), target_y.detach().numpy(), 'ro')\n",
    "    plt.title(\"Predicted prob dist\")\n",
    "\n",
    "    plt.subplot(1, 2, 2)\n",
    "    plt.imshow(target.detach().numpy(), cmap='viridis', extent=(-0.5, p.shape[1] - 0.5, p.shape[0] - 0.5, -0.5))\n",
    "    plt.colorbar()\n",
    "    plt.plot(xs, ys, 'co')\n",
    "    plt.plot(target_x.detach().numpy(), target_y.detach().numpy(), 'ro')\n",
    "    plt.title(\"Target prob dist\")\n",
    "    plt.legend(['predicted', 'target'], loc='upper left', bbox_to_anchor=(1.3, 1))\n",
    "    plt.show()\n",
    "    \n",
    "plot_figure(p, [(x, y)], target, target_x, target_y)"
   ]
  },
  {
   "cell_type": "code",
   "execution_count": 8,
   "metadata": {},
   "outputs": [],
   "source": [
    "predictions = []"
   ]
  },
  {
   "cell_type": "markdown",
   "metadata": {},
   "source": [
    "# Run this multiple times with Ctrl+Enter\n",
    "To test the negative learning, set negative=True in gradient_step() call."
   ]
  },
  {
   "cell_type": "code",
   "execution_count": 9,
   "metadata": {},
   "outputs": [
    {
     "data": {
      "image/png": "[encoded data removed]",
      "text/plain": [
       "<Figure size 1080x360 with 4 Axes>"
      ]
     },
     "metadata": {
      "needs_background": "light"
     },
     "output_type": "display_data"
    },
    {
     "data": {
      "text/plain": [
       "tensor(-15.3382, grad_fn=<NegBackward>)"
      ]
     },
     "execution_count": 9,
     "metadata": {},
     "output_type": "execute_result"
    }
   ],
   "source": [
    "def gradient_step(tensor, p, target, lr=1.0, negative=False):\n",
    "    loss = -torch.sum(target * torch.log(p))\n",
    "    if negative:\n",
    "        loss = -loss\n",
    "    loss.backward()\n",
    "    with torch.no_grad():\n",
    "        tensor -= lr * tensor.grad\n",
    "        tensor.grad.zero_()\n",
    "    return loss\n",
    "\n",
    "for _ in range(10):\n",
    "    loss = gradient_step(tensor, p, target, negative=True)\n",
    "    p, x, y = spatial_softmax2d(tensor)\n",
    "    predictions.append((x, y))\n",
    "plot_figure(p, predictions, target, target_x, target_y)\n",
    "loss"
   ]
  },
  {
   "cell_type": "code",
   "execution_count": 10,
   "metadata": {},
   "outputs": [
    {
     "data": {
      "text/plain": [
       "tensor([[-1.2658,  1.1379, -0.3194,  2.4912,  1.3479],\n",
       "        [ 0.1012,  0.4887, -0.8250,  0.7721,  1.5890],\n",
       "        [ 0.6192, -2.3980, -0.8749,  0.4240, -0.5579],\n",
       "        [ 0.8398, -8.5633, -0.0216,  9.0639,  0.7452],\n",
       "        [ 2.0194,  1.1532, -0.3431, -0.7133,  0.7567]], requires_grad=True)"
      ]
     },
     "execution_count": 10,
     "metadata": {},
     "output_type": "execute_result"
    }
   ],
   "source": [
    "tensor"
   ]
  },
  {
   "cell_type": "code",
   "execution_count": null,
   "metadata": {},
   "outputs": [],
   "source": []
  }
 ],
 "metadata": {
  "kernelspec": {
   "display_name": "Python 3",
   "language": "python",
   "name": "python3"
  },
  "language_info": {
   "codemirror_mode": {
    "name": "ipython",
    "version": 3
   },
   "file_extension": ".py",
   "mimetype": "text/x-python",
   "name": "python",
   "nbconvert_exporter": "python",
   "pygments_lexer": "ipython3",
   "version": "3.7.9"
  }
 },
 "nbformat": 4,
 "nbformat_minor": 2
}
